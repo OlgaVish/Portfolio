{
 "cells": [
  {
   "cell_type": "markdown",
   "metadata": {},
   "source": [
    "# Описание проекта\n",
    "\n",
    "Оператор мобильной связи «Мегалайн» выяснил: многие клиенты пользуются архивными тарифами. Они хотят построить систему, способную проанализировать поведение клиентов и предложить пользователям новый тариф: «Смарт» или «Ультра».\n",
    "\n",
    "В вашем распоряжении данные о поведении клиентов, которые уже перешли на эти тарифы (из проекта курса «Статистический анализ данных»). Нужно построить модель для задачи классификации, которая выберет подходящий тариф. Предобработка данных не понадобится — вы её уже сделали.\n",
    "\n",
    "Постройте модель с максимально большим значением accuracy. Чтобы сдать проект успешно, нужно довести долю правильных ответов по крайней мере до 0.75. Проверьте accuracy на тестовой выборке самостоятельно."
   ]
  },
  {
   "cell_type": "markdown",
   "metadata": {},
   "source": [
    "# Описание данных\n",
    "Каждый объект в наборе данных — это информация о поведении одного пользователя за месяц. Известно:\n",
    "\n",
    "- сalls — количество звонков,\n",
    "- minutes — суммарная длительность звонков в минутах,\n",
    "- messages — количество sms-сообщений,\n",
    "- mb_used — израсходованный интернет-трафик в Мб,\n",
    "- is_ultra — каким тарифом пользовался в течение месяца («Ультра» — 1, «Смарт» — 0)."
   ]
  },
  {
   "cell_type": "code",
   "execution_count": 1,
   "metadata": {},
   "outputs": [],
   "source": [
    "# Подключение библиотек\n",
    "\n",
    "import warnings\n",
    "\n",
    "import numpy as np\n",
    "import pandas as pd\n",
    "import matplotlib.pyplot as plt\n",
    "\n",
    "from sklearn import tree\n",
    "from sklearn.linear_model import LogisticRegression # логистическая регрессия\n",
    "from sklearn.tree import DecisionTreeClassifier # дерево решений\n",
    "from sklearn.ensemble import RandomForestClassifier # случайный лес\n",
    "from sklearn.dummy import DummyClassifier # для проверки модели на адекватность\n",
    "\n",
    "from sklearn.model_selection import train_test_split, GridSearchCV # для разделения выборки и поиска по сетке наил. параметров\n",
    "\n",
    "# метрики\n",
    "from sklearn.metrics import accuracy_score\n",
    "\n",
    "# настройки\n",
    "warnings.filterwarnings('ignore')\n",
    "%matplotlib inline"
   ]
  },
  {
   "cell_type": "markdown",
   "metadata": {},
   "source": [
    "### Откроем файл с данными и изучим его"
   ]
  },
  {
   "cell_type": "code",
   "execution_count": 2,
   "metadata": {},
   "outputs": [],
   "source": [
    "try:\n",
    "    df = pd.read_csv('users_behavior.csv')\n",
    "except:\n",
    "    df = pd.read_csv('https://code.s3.yandex.net/datasets/users_behavior.csv')"
   ]
  },
  {
   "cell_type": "code",
   "execution_count": 3,
   "metadata": {},
   "outputs": [
    {
     "data": {
      "text/html": [
       "<div>\n",
       "<style scoped>\n",
       "    .dataframe tbody tr th:only-of-type {\n",
       "        vertical-align: middle;\n",
       "    }\n",
       "\n",
       "    .dataframe tbody tr th {\n",
       "        vertical-align: top;\n",
       "    }\n",
       "\n",
       "    .dataframe thead th {\n",
       "        text-align: right;\n",
       "    }\n",
       "</style>\n",
       "<table border=\"1\" class=\"dataframe\">\n",
       "  <thead>\n",
       "    <tr style=\"text-align: right;\">\n",
       "      <th></th>\n",
       "      <th>calls</th>\n",
       "      <th>minutes</th>\n",
       "      <th>messages</th>\n",
       "      <th>mb_used</th>\n",
       "      <th>is_ultra</th>\n",
       "    </tr>\n",
       "  </thead>\n",
       "  <tbody>\n",
       "    <tr>\n",
       "      <th>0</th>\n",
       "      <td>40.0</td>\n",
       "      <td>311.90</td>\n",
       "      <td>83.0</td>\n",
       "      <td>19915.42</td>\n",
       "      <td>0</td>\n",
       "    </tr>\n",
       "    <tr>\n",
       "      <th>1</th>\n",
       "      <td>85.0</td>\n",
       "      <td>516.75</td>\n",
       "      <td>56.0</td>\n",
       "      <td>22696.96</td>\n",
       "      <td>0</td>\n",
       "    </tr>\n",
       "    <tr>\n",
       "      <th>2</th>\n",
       "      <td>77.0</td>\n",
       "      <td>467.66</td>\n",
       "      <td>86.0</td>\n",
       "      <td>21060.45</td>\n",
       "      <td>0</td>\n",
       "    </tr>\n",
       "    <tr>\n",
       "      <th>3</th>\n",
       "      <td>106.0</td>\n",
       "      <td>745.53</td>\n",
       "      <td>81.0</td>\n",
       "      <td>8437.39</td>\n",
       "      <td>1</td>\n",
       "    </tr>\n",
       "    <tr>\n",
       "      <th>4</th>\n",
       "      <td>66.0</td>\n",
       "      <td>418.74</td>\n",
       "      <td>1.0</td>\n",
       "      <td>14502.75</td>\n",
       "      <td>0</td>\n",
       "    </tr>\n",
       "  </tbody>\n",
       "</table>\n",
       "</div>"
      ],
      "text/plain": [
       "   calls  minutes  messages   mb_used  is_ultra\n",
       "0   40.0   311.90      83.0  19915.42         0\n",
       "1   85.0   516.75      56.0  22696.96         0\n",
       "2   77.0   467.66      86.0  21060.45         0\n",
       "3  106.0   745.53      81.0   8437.39         1\n",
       "4   66.0   418.74       1.0  14502.75         0"
      ]
     },
     "execution_count": 3,
     "metadata": {},
     "output_type": "execute_result"
    }
   ],
   "source": [
    "df.head()"
   ]
  },
  {
   "cell_type": "code",
   "execution_count": 4,
   "metadata": {},
   "outputs": [
    {
     "name": "stdout",
     "output_type": "stream",
     "text": [
      "<class 'pandas.core.frame.DataFrame'>\n",
      "RangeIndex: 3214 entries, 0 to 3213\n",
      "Data columns (total 5 columns):\n",
      " #   Column    Non-Null Count  Dtype  \n",
      "---  ------    --------------  -----  \n",
      " 0   calls     3214 non-null   float64\n",
      " 1   minutes   3214 non-null   float64\n",
      " 2   messages  3214 non-null   float64\n",
      " 3   mb_used   3214 non-null   float64\n",
      " 4   is_ultra  3214 non-null   int64  \n",
      "dtypes: float64(4), int64(1)\n",
      "memory usage: 125.7 KB\n"
     ]
    }
   ],
   "source": [
    "# Общая информация о датасете\n",
    "\n",
    "df.info()"
   ]
  },
  {
   "cell_type": "code",
   "execution_count": 5,
   "metadata": {},
   "outputs": [
    {
     "data": {
      "text/html": [
       "<div>\n",
       "<style scoped>\n",
       "    .dataframe tbody tr th:only-of-type {\n",
       "        vertical-align: middle;\n",
       "    }\n",
       "\n",
       "    .dataframe tbody tr th {\n",
       "        vertical-align: top;\n",
       "    }\n",
       "\n",
       "    .dataframe thead th {\n",
       "        text-align: right;\n",
       "    }\n",
       "</style>\n",
       "<table border=\"1\" class=\"dataframe\">\n",
       "  <thead>\n",
       "    <tr style=\"text-align: right;\">\n",
       "      <th></th>\n",
       "      <th>calls</th>\n",
       "      <th>minutes</th>\n",
       "      <th>messages</th>\n",
       "      <th>mb_used</th>\n",
       "    </tr>\n",
       "  </thead>\n",
       "  <tbody>\n",
       "    <tr>\n",
       "      <th>count</th>\n",
       "      <td>3214.000000</td>\n",
       "      <td>3214.000000</td>\n",
       "      <td>3214.000000</td>\n",
       "      <td>3214.000000</td>\n",
       "    </tr>\n",
       "    <tr>\n",
       "      <th>mean</th>\n",
       "      <td>63.038892</td>\n",
       "      <td>438.208787</td>\n",
       "      <td>38.281269</td>\n",
       "      <td>17207.673836</td>\n",
       "    </tr>\n",
       "    <tr>\n",
       "      <th>std</th>\n",
       "      <td>33.236368</td>\n",
       "      <td>234.569872</td>\n",
       "      <td>36.148326</td>\n",
       "      <td>7570.968246</td>\n",
       "    </tr>\n",
       "    <tr>\n",
       "      <th>min</th>\n",
       "      <td>0.000000</td>\n",
       "      <td>0.000000</td>\n",
       "      <td>0.000000</td>\n",
       "      <td>0.000000</td>\n",
       "    </tr>\n",
       "    <tr>\n",
       "      <th>25%</th>\n",
       "      <td>40.000000</td>\n",
       "      <td>274.575000</td>\n",
       "      <td>9.000000</td>\n",
       "      <td>12491.902500</td>\n",
       "    </tr>\n",
       "    <tr>\n",
       "      <th>50%</th>\n",
       "      <td>62.000000</td>\n",
       "      <td>430.600000</td>\n",
       "      <td>30.000000</td>\n",
       "      <td>16943.235000</td>\n",
       "    </tr>\n",
       "    <tr>\n",
       "      <th>75%</th>\n",
       "      <td>82.000000</td>\n",
       "      <td>571.927500</td>\n",
       "      <td>57.000000</td>\n",
       "      <td>21424.700000</td>\n",
       "    </tr>\n",
       "    <tr>\n",
       "      <th>max</th>\n",
       "      <td>244.000000</td>\n",
       "      <td>1632.060000</td>\n",
       "      <td>224.000000</td>\n",
       "      <td>49745.730000</td>\n",
       "    </tr>\n",
       "  </tbody>\n",
       "</table>\n",
       "</div>"
      ],
      "text/plain": [
       "             calls      minutes     messages       mb_used\n",
       "count  3214.000000  3214.000000  3214.000000   3214.000000\n",
       "mean     63.038892   438.208787    38.281269  17207.673836\n",
       "std      33.236368   234.569872    36.148326   7570.968246\n",
       "min       0.000000     0.000000     0.000000      0.000000\n",
       "25%      40.000000   274.575000     9.000000  12491.902500\n",
       "50%      62.000000   430.600000    30.000000  16943.235000\n",
       "75%      82.000000   571.927500    57.000000  21424.700000\n",
       "max     244.000000  1632.060000   224.000000  49745.730000"
      ]
     },
     "execution_count": 5,
     "metadata": {},
     "output_type": "execute_result"
    }
   ],
   "source": [
    "df[['calls', 'minutes', 'messages', 'mb_used']].describe()"
   ]
  },
  {
   "cell_type": "code",
   "execution_count": 6,
   "metadata": {},
   "outputs": [
    {
     "data": {
      "text/plain": [
       "0"
      ]
     },
     "execution_count": 6,
     "metadata": {},
     "output_type": "execute_result"
    }
   ],
   "source": [
    "df.duplicated().sum()"
   ]
  },
  {
   "cell_type": "code",
   "execution_count": 7,
   "metadata": {},
   "outputs": [
    {
     "data": {
      "image/png": "[encoded data removed]",
      "text/plain": [
       "<Figure size 720x576 with 1 Axes>"
      ]
     },
     "metadata": {
      "needs_background": "light"
     },
     "output_type": "display_data"
    }
   ],
   "source": [
    "# Построим гистограмму для целевого признака, чтобы посмотреть на сбалансированность данных в нём\n",
    "\n",
    "fig, ax = plt.subplots()\n",
    "\n",
    "# задаём ширину и высоту \n",
    "fig.set_figwidth(10)  \n",
    "fig.set_figheight(8)\n",
    "\n",
    "ax.hist(df['is_ultra'])\n",
    "\n",
    "ax.grid(linewidth = 1,   \n",
    "        linestyle = '--')\n",
    "\n",
    "# добавляем название графика\n",
    "ax.set(title='Distribution of the number of tariffs')\n",
    "\n",
    "# добавляем подписи к осям:\n",
    "ax.set_xlabel('tariff_type')\n",
    "ax.set_ylabel('number_of_tariffs')\n",
    "\n",
    "plt.show()"
   ]
  },
  {
   "cell_type": "code",
   "execution_count": 8,
   "metadata": {},
   "outputs": [
    {
     "data": {
      "text/plain": [
       "is_ultra\n",
       "0    2229\n",
       "1     985\n",
       "Name: count, dtype: int64"
      ]
     },
     "execution_count": 8,
     "metadata": {},
     "output_type": "execute_result"
    }
   ],
   "source": [
    "df['is_ultra'].value_counts()"
   ]
  },
  {
   "cell_type": "markdown",
   "metadata": {},
   "source": [
    "Количество строк и столбцов таблицы: 3214 и 5, соответственно. Пропусков нет, явные дубликаты отсутствуют, все признаки подходящих типов. Можно наблюдать некую несбалансированность классов, так как около 31% данных относится к тарифу «Ультра», а  остальные 69% - к тарифу «Смарт»."
   ]
  },
  {
   "cell_type": "code",
   "execution_count": 9,
   "metadata": {},
   "outputs": [
    {
     "data": {
      "text/plain": [
       "0.98"
      ]
     },
     "execution_count": 9,
     "metadata": {},
     "output_type": "execute_result"
    }
   ],
   "source": [
    "# почти 1, значит есть сильная, положительная, линейная зависимость\n",
    "\n",
    "df['calls'].corr(df['minutes']).round(2)"
   ]
  },
  {
   "cell_type": "markdown",
   "metadata": {},
   "source": [
    "#### Вывод:\n",
    "Наблюдается мультиколлинеарность и дисбаланс. Нулей у нас 69% это значит для того, чтобы наша модель была адекватной, её метрика должна быть выше 0,69. Можно побороться с мультиколлинеарностью, в том случае, если мы захотим посмотреть как конкретно признаки влияют на целевой."
   ]
  },
  {
   "cell_type": "markdown",
   "metadata": {},
   "source": [
    "### Разделим исходные данные на обучающую, валидационную и тестовую выборки"
   ]
  },
  {
   "cell_type": "markdown",
   "metadata": {},
   "source": [
    "Многие модели машинного обучения имеют параметры, которые влияют на то, каким образом обучается модель. В таких случаях мы используем тренировочную выборку чтобы обучить модель, валидационную чтобы проверить её качество и, если нужно, подправить параметры каким-то образом. Наконец, тестовую выборку мы используем лишь для окончательной проверки качества модели."
   ]
  },
  {
   "cell_type": "markdown",
   "metadata": {},
   "source": [
    "Целевым значением для нас будет значение `is_ultra` (показатель тарифа, которым пользовался условный пользователь в течение месяца). Вынесем этот столбец в отдельную переменную y, а в переменную X запишем все столбцы из таблицы df кроме целевого столбца:"
   ]
  },
  {
   "cell_type": "code",
   "execution_count": 10,
   "metadata": {},
   "outputs": [],
   "source": [
    "# Сохраним признаки и целевой признак (далее ц.п.) в отдельных переменных\n",
    "# Введём обозначения: X - признаки, y - ц.п. (по аналогии с обозначениями выборок)\n",
    "\n",
    "X = df.drop(columns='is_ultra') # извлекаем признаки\n",
    "\n",
    "y = df['is_ultra'] # извлекаем целевой признак"
   ]
  },
  {
   "cell_type": "code",
   "execution_count": 11,
   "metadata": {},
   "outputs": [],
   "source": [
    "# X, y"
   ]
  },
  {
   "cell_type": "markdown",
   "metadata": {},
   "source": [
    "Разобьём наши данные на тренировочную, валидационную и тестовую выборки, в соотношении 60/20/20:"
   ]
  },
  {
   "cell_type": "code",
   "execution_count": 12,
   "metadata": {},
   "outputs": [],
   "source": [
    "X_train, X_test_aux, y_train, y_test_aux = train_test_split(X, y, \n",
    "                                                            test_size=0.4, \n",
    "                                                            random_state=239, \n",
    "                                                            stratify=y)"
   ]
  },
  {
   "cell_type": "code",
   "execution_count": 13,
   "metadata": {},
   "outputs": [],
   "source": [
    "X_valid, X_test, y_valid, y_test = train_test_split(X_test_aux, y_test_aux, \n",
    "                                                    test_size=0.5, \n",
    "                                                    random_state=239, \n",
    "                                                    stratify=y_test_aux)"
   ]
  },
  {
   "cell_type": "code",
   "execution_count": 14,
   "metadata": {},
   "outputs": [
    {
     "data": {
      "text/plain": [
       "((1928,), (643,), (643,))"
      ]
     },
     "execution_count": 14,
     "metadata": {},
     "output_type": "execute_result"
    }
   ],
   "source": [
    "# Проверка\n",
    "\n",
    "X_train.shape, X_valid.shape, X_test.shape\n",
    "y_train.shape, y_valid.shape, y_test.shape"
   ]
  },
  {
   "cell_type": "markdown",
   "metadata": {},
   "source": [
    "Далее работаем с тренировочными `X_train`, `y_train`, валидационными `X_valid`, `y_valid` и тестовыми (на этапе финальной оценки качества модели) `X_test`, `y_test` выборками."
   ]
  },
  {
   "cell_type": "markdown",
   "metadata": {},
   "source": [
    "### Исследуем качество разных моделей, меняя гиперпараметры"
   ]
  },
  {
   "cell_type": "code",
   "execution_count": 15,
   "metadata": {},
   "outputs": [],
   "source": [
    "# Функция для вывода значений метрик для построенных моделей\n",
    "\n",
    "def evaluate_preds(train_true_values, train_pred_values, test_true_values, test_pred_values):\n",
    "    print('ACCURACY\\n')\n",
    "    print('Metric value on test data:\\t' + str(round(accuracy_score(test_true_values, test_pred_values), 4)))\n",
    "    print('Metric value on training data:\\t' + str(round(accuracy_score(train_true_values, train_pred_values), 4)))"
   ]
  },
  {
   "cell_type": "markdown",
   "metadata": {},
   "source": [
    "#### Для решения задачи классификации используем `логистическую регрессию`"
   ]
  },
  {
   "cell_type": "code",
   "execution_count": 16,
   "metadata": {},
   "outputs": [],
   "source": [
    "#?LogisticRegression"
   ]
  },
  {
   "cell_type": "markdown",
   "metadata": {},
   "source": [
    "Построим простую модель с типом оптимизатора `liblinear`. Посмотрим на метрики модели при изменении параметров, отвечающих за тип регуляризации (L1 или L2), и параметра `max_iter`, который задаёт максимальное количество итераций обучения. Найдём значения данных гиперпараметров, соответствующие лучшему значению `accuracy`:"
   ]
  },
  {
   "cell_type": "code",
   "execution_count": 17,
   "metadata": {},
   "outputs": [
    {
     "name": "stdout",
     "output_type": "stream",
     "text": [
      "Best model accuracy: 0.7294\n",
      "Parameters of the best model ['l1', 100]\n",
      "CPU times: total: 3.39 s\n",
      "Wall time: 3.39 s\n"
     ]
    }
   ],
   "source": [
    "%%time\n",
    "\n",
    "best_model = None\n",
    "best_result = 0\n",
    "best_parameters = []\n",
    "\n",
    "for i, penalty in enumerate(['l1', 'l2']):\n",
    "    \n",
    "    for iter_count in range(100, 500):\n",
    "        \n",
    "        lr_model = LogisticRegression(random_state=239, solver='liblinear', penalty=penalty, max_iter=iter_count)\n",
    "        lr_model.fit(X_train, y_train)\n",
    "        \n",
    "        y_valid_pred = lr_model.predict(X_valid) \n",
    "        \n",
    "        result = accuracy_score(y_valid, y_valid_pred)\n",
    "        \n",
    "        if result > best_result:\n",
    "            best_model = lr_model\n",
    "            best_result = result\n",
    "            best_parameters.extend([penalty, iter_count])\n",
    "                    \n",
    "print('Best model accuracy:', best_result.round(4))\n",
    "print('Parameters of the best model', best_parameters)"
   ]
  },
  {
   "cell_type": "markdown",
   "metadata": {},
   "source": [
    "Для модели логистической регрессии с настройками вида:\n",
    "\n",
    "- `random_state = 239`, \n",
    "- `solver = liblinear`, \n",
    "- `penalty = l1`, \n",
    "- `max_iter = 100` \n",
    "\n",
    "получено лучшее значение метрики (на валидационной выборке), равное `0.7294`. Найдём точность на тренировочной выборке, чтобы оценить возможное переобучение."
   ]
  },
  {
   "cell_type": "code",
   "execution_count": 18,
   "metadata": {},
   "outputs": [
    {
     "name": "stdout",
     "output_type": "stream",
     "text": [
      "Best model accuracy: 0.7526\n"
     ]
    }
   ],
   "source": [
    "y_train_pred = best_model.predict(X_train)\n",
    "\n",
    "print('Best model accuracy:', round(accuracy_score(y_train, y_train_pred), 4))"
   ]
  },
  {
   "cell_type": "markdown",
   "metadata": {},
   "source": [
    "Точность на тренировочной и валидационной выборках примерно одинаковая (если точность на тренировочной выборке оказывается сильно выше, то это означает переобучение модели)."
   ]
  },
  {
   "cell_type": "markdown",
   "metadata": {},
   "source": [
    "Попробуем изменить тип оптимизатора, возьмём `lbfgs`:"
   ]
  },
  {
   "cell_type": "code",
   "execution_count": 19,
   "metadata": {},
   "outputs": [],
   "source": [
    "lr_model_2 = LogisticRegression(random_state=239, solver='lbfgs', max_iter=500) # построение модели\n",
    "\n",
    "lr_model_2.fit(X_train, y_train); # обучение модели"
   ]
  },
  {
   "cell_type": "code",
   "execution_count": 20,
   "metadata": {},
   "outputs": [
    {
     "name": "stdout",
     "output_type": "stream",
     "text": [
      "ACCURACY\n",
      "\n",
      "Metric value on test data:\t0.7325\n",
      "Metric value on training data:\t0.7521\n"
     ]
    }
   ],
   "source": [
    "y_train_pred = lr_model_2.predict(X_train)\n",
    "y_valid_pred = lr_model_2.predict(X_valid) \n",
    "\n",
    "evaluate_preds(y_train, y_train_pred, y_valid, y_valid_pred)"
   ]
  },
  {
   "cell_type": "markdown",
   "metadata": {},
   "source": [
    "#### Вывод: \n",
    "В качестве лучшей модели логистической регрессии стоит зафиксировать модель `lr_model_2`, с соответствующими настройками гиперпараметров (`random_state = 239`, `solver = lbfgs`, `max_iter = 500`). Значение метрики качества (`accuracy`) для данной модели составляет `0.7325`.    "
   ]
  },
  {
   "cell_type": "markdown",
   "metadata": {},
   "source": [
    "#### Для решения задачи классификации используем `дерево решений`"
   ]
  },
  {
   "cell_type": "code",
   "execution_count": 21,
   "metadata": {},
   "outputs": [],
   "source": [
    "#?DecisionTreeClassifier"
   ]
  },
  {
   "cell_type": "code",
   "execution_count": 22,
   "metadata": {},
   "outputs": [],
   "source": [
    "dtc_model = DecisionTreeClassifier(random_state=239, max_depth=3) # построение модели\n",
    "\n",
    "dtc_model.fit(X_train, y_train); # обучение модели"
   ]
  },
  {
   "cell_type": "code",
   "execution_count": 23,
   "metadata": {},
   "outputs": [
    {
     "data": {
      "image/png": "[encoded data removed]",
      "text/plain": [
       "<Figure size 1080x864 with 1 Axes>"
      ]
     },
     "metadata": {
      "needs_background": "light"
     },
     "output_type": "display_data"
    }
   ],
   "source": [
    "# Визуализация дерева решений для построенной модели    \n",
    "\n",
    "fig, ax = plt.subplots()\n",
    "\n",
    "# задаём ширину и высоту \n",
    "fig.set_figwidth(15)  \n",
    "fig.set_figheight(12)\n",
    "\n",
    "tree.plot_tree(dtc_model, fontsize=10, ax=ax);\n",
    "\n",
    "# добавляем название графика\n",
    "ax.set(title='Decision tree')\n",
    "\n",
    "plt.show()"
   ]
  },
  {
   "cell_type": "code",
   "execution_count": 24,
   "metadata": {},
   "outputs": [
    {
     "name": "stdout",
     "output_type": "stream",
     "text": [
      "ACCURACY\n",
      "\n",
      "Metric value on test data:\t0.7776\n",
      "Metric value on training data:\t0.7982\n"
     ]
    }
   ],
   "source": [
    "# Получаем предсказания\n",
    "\n",
    "y_train_pred = dtc_model.predict(X_train)\n",
    "y_valid_pred = dtc_model.predict(X_valid) \n",
    "\n",
    "evaluate_preds(y_train, y_train_pred, y_valid, y_valid_pred)"
   ]
  },
  {
   "cell_type": "markdown",
   "metadata": {},
   "source": [
    "Похоже на то, что модель склонна переобучаться с увеличением значения `max_depth` (макс. глубина дерева). Построим модель для различных значений глубины `max_depth`, чтобы подобрать наиболее оптимальное:"
   ]
  },
  {
   "cell_type": "code",
   "execution_count": 25,
   "metadata": {},
   "outputs": [
    {
     "name": "stdout",
     "output_type": "stream",
     "text": [
      "max_depth = 2\n",
      "\taccuracy_valid = 0.7698\n",
      "\taccuracy_train = 0.7837\n",
      "\n",
      "max_depth = 4\n",
      "\taccuracy_valid = 0.7776\n",
      "\taccuracy_train = 0.7993\n",
      "\n",
      "max_depth = 6\n",
      "\taccuracy_valid = 0.7916\n",
      "\taccuracy_train = 0.8262\n",
      "\n",
      "max_depth = 8\n",
      "\taccuracy_valid = 0.7698\n",
      "\taccuracy_train = 0.8496\n",
      "\n",
      "max_depth = 10\n",
      "\taccuracy_valid = 0.7807\n",
      "\taccuracy_train = 0.8797\n",
      "\n",
      "max_depth = 12\n",
      "\taccuracy_valid = 0.7729\n",
      "\taccuracy_train = 0.9035\n",
      "\n",
      "max_depth = 14\n",
      "\taccuracy_valid = 0.7558\n",
      "\taccuracy_train = 0.9372\n",
      "\n",
      "max_depth = 16\n",
      "\taccuracy_valid = 0.7496\n",
      "\taccuracy_train = 0.9632\n",
      "\n",
      "max_depth = 18\n",
      "\taccuracy_valid = 0.7341\n",
      "\taccuracy_train = 0.985\n",
      "\n",
      "max_depth = 20\n",
      "\taccuracy_valid = 0.7481\n",
      "\taccuracy_train = 0.9959\n",
      "\n",
      "CPU times: total: 234 ms\n",
      "Wall time: 214 ms\n"
     ]
    }
   ],
   "source": [
    "%%time\n",
    "\n",
    "depth_values = np.arange(1, 21)\n",
    "\n",
    "accuracy_on_valid = []\n",
    "accuracy_on_train = []\n",
    "\n",
    "for i, value in enumerate(depth_values):\n",
    "    dtc = DecisionTreeClassifier(random_state=239, max_depth=value)\n",
    "    \n",
    "    dtc.fit(X_train, y_train)\n",
    "    \n",
    "    y_pred_valid = dtc.predict(X_valid)\n",
    "    y_pred_train = dtc.predict(X_train)\n",
    "        \n",
    "    if i % 2 != 0:\n",
    "        print(f'max_depth = {value}')\n",
    "        print(f'\\taccuracy_valid = {round(accuracy_score(y_valid, y_pred_valid), 4)}')\n",
    "        print(f'\\taccuracy_train = {round(accuracy_score(y_train, y_pred_train), 4)}\\n')\n",
    "            \n",
    "    accuracy_on_valid.append(accuracy_score(y_valid, y_pred_valid))\n",
    "    accuracy_on_train.append(accuracy_score(y_train, y_pred_train))"
   ]
  },
  {
   "cell_type": "code",
   "execution_count": 26,
   "metadata": {},
   "outputs": [
    {
     "data": {
      "image/png": "[encoded data removed]",
      "text/plain": [
       "<Figure size 1080x864 with 1 Axes>"
      ]
     },
     "metadata": {
      "needs_background": "light"
     },
     "output_type": "display_data"
    }
   ],
   "source": [
    "# Строим графики зависимости accuracy на тренир. и валидац. выборках от значений глубины  \n",
    "\n",
    "fig, ax = plt.subplots()\n",
    "\n",
    "# задаём ширину и высоту \n",
    "fig.set_figwidth(15)  \n",
    "fig.set_figheight(12)\n",
    "\n",
    "ax.plot(depth_values, accuracy_on_valid, label='valid')\n",
    "ax.plot(depth_values, accuracy_on_train, label='train')\n",
    "\n",
    "ax.legend()\n",
    "ax.grid(linewidth = 1,   \n",
    "        linestyle = '--')\n",
    "\n",
    "# добавляем название графика\n",
    "ax.set(title='Accuracy dependencies from depth values')\n",
    "\n",
    "# добавляем подписи к осям:\n",
    "ax.set_xlabel('depth values')\n",
    "ax.set_ylabel('accuracy')\n",
    "\n",
    "plt.show()"
   ]
  },
  {
   "cell_type": "markdown",
   "metadata": {},
   "source": [
    "При достаточно больших значениях параметра max_depth точность на тренировочных данных стремиться к 1 (склонность к переобучению). На валидационных данных точность достигает своего максимума при `max_depth` = 6, а затем начинает падать."
   ]
  },
  {
   "cell_type": "markdown",
   "metadata": {},
   "source": [
    "Построим модель по полученной информации, зафиксируем её как лучшую:"
   ]
  },
  {
   "cell_type": "code",
   "execution_count": 27,
   "metadata": {},
   "outputs": [],
   "source": [
    "dtc_model = DecisionTreeClassifier(random_state=239, max_depth=6) # построение модели\n",
    "\n",
    "dtc_model.fit(X_train, y_train); # обучение модели"
   ]
  },
  {
   "cell_type": "code",
   "execution_count": 28,
   "metadata": {},
   "outputs": [
    {
     "name": "stdout",
     "output_type": "stream",
     "text": [
      "ACCURACY\n",
      "\n",
      "Metric value on test data:\t0.7916\n",
      "Metric value on training data:\t0.8262\n"
     ]
    }
   ],
   "source": [
    "# Получаем предсказания\n",
    "\n",
    "y_train_pred = dtc_model.predict(X_train)\n",
    "y_valid_pred = dtc_model.predict(X_valid) \n",
    "\n",
    "evaluate_preds(y_train, y_train_pred, y_valid, y_valid_pred)"
   ]
  },
  {
   "cell_type": "markdown",
   "metadata": {},
   "source": [
    "#### Вывод:\n",
    "В качестве лучшей модели дерева решений берём модель `dtc_model`, с соответствующими настройками гиперпараметров. Значение метрики качества (`accuracy`) для данной модели составляет `0.7916`."
   ]
  },
  {
   "cell_type": "markdown",
   "metadata": {},
   "source": [
    "#### Для решения задачи классификации используем `случайный лес`"
   ]
  },
  {
   "cell_type": "code",
   "execution_count": 29,
   "metadata": {},
   "outputs": [],
   "source": [
    "#?RandomForestClassifier"
   ]
  },
  {
   "cell_type": "code",
   "execution_count": 30,
   "metadata": {},
   "outputs": [],
   "source": [
    "rfc_model = RandomForestClassifier(random_state=239) # построение модели\n",
    "\n",
    "rfc_model.fit(X_train, y_train); # обучение модели"
   ]
  },
  {
   "cell_type": "code",
   "execution_count": 31,
   "metadata": {},
   "outputs": [
    {
     "name": "stdout",
     "output_type": "stream",
     "text": [
      "ACCURACY\n",
      "\n",
      "Metric value on test data:\t0.79\n",
      "Metric value on training data:\t1.0\n"
     ]
    }
   ],
   "source": [
    "# Получаем предсказания\n",
    "\n",
    "y_train_pred = rfc_model.predict(X_train)\n",
    "y_valid_pred = rfc_model.predict(X_valid) \n",
    "\n",
    "evaluate_preds(y_train, y_train_pred, y_valid, y_valid_pred)"
   ]
  },
  {
   "cell_type": "markdown",
   "metadata": {},
   "source": [
    "Попробуем попдобрать наилучшие параметры, такие как `n_estimators` - число деревьев в ансамбле и `max_depth` - максимальная глубина дерева, воспользовавшись поиском по сетке. Зададим сетку необходимых нам параметров:"
   ]
  },
  {
   "cell_type": "code",
   "execution_count": 32,
   "metadata": {},
   "outputs": [],
   "source": [
    "parameters = {\n",
    "    'n_estimators': [10, 50, 100, 150, 200], \n",
    "    'max_depth': np.arange(5, 11)\n",
    "}\n",
    "\n",
    "gs_clf = GridSearchCV(\n",
    "            estimator=RandomForestClassifier(random_state=239), \n",
    "            param_grid=parameters, \n",
    "            scoring='accuracy', \n",
    "            cv=5\n",
    ")"
   ]
  },
  {
   "cell_type": "markdown",
   "metadata": {},
   "source": [
    "Для обучения GridSearch разделим исходные данные только на тренировочную и тестовую выборки (валидационную выборку выделять не будем):"
   ]
  },
  {
   "cell_type": "code",
   "execution_count": 33,
   "metadata": {},
   "outputs": [],
   "source": [
    "# Делим данные на тренировочные и тестовые\n",
    "\n",
    "features_train, features_test, target_train, target_test = train_test_split(X, y, \n",
    "                                                                            test_size=0.25, \n",
    "                                                                            random_state=239, \n",
    "                                                                            stratify=y)"
   ]
  },
  {
   "cell_type": "code",
   "execution_count": 34,
   "metadata": {},
   "outputs": [
    {
     "name": "stdout",
     "output_type": "stream",
     "text": [
      "CPU times: total: 46.6 s\n",
      "Wall time: 46.6 s\n"
     ]
    },
    {
     "data": {
      "text/html": [
       "<style>#sk-container-id-1 {color: black;background-color: white;}#sk-container-id-1 pre{padding: 0;}#sk-container-id-1 div.sk-toggleable {background-color: white;}#sk-container-id-1 label.sk-toggleable__label {cursor: pointer;display: block;width: 100%;margin-bottom: 0;padding: 0.3em;box-sizing: border-box;text-align: center;}#sk-container-id-1 label.sk-toggleable__label-arrow:before {content: \"▸\";float: left;margin-right: 0.25em;color: #696969;}#sk-container-id-1 label.sk-toggleable__label-arrow:hover:before {color: black;}#sk-container-id-1 div.sk-estimator:hover label.sk-toggleable__label-arrow:before {color: black;}#sk-container-id-1 div.sk-toggleable__content {max-height: 0;max-width: 0;overflow: hidden;text-align: left;background-color: #f0f8ff;}#sk-container-id-1 div.sk-toggleable__content pre {margin: 0.2em;color: black;border-radius: 0.25em;background-color: #f0f8ff;}#sk-container-id-1 input.sk-toggleable__control:checked~div.sk-toggleable__content {max-height: 200px;max-width: 100%;overflow: auto;}#sk-container-id-1 input.sk-toggleable__control:checked~label.sk-toggleable__label-arrow:before {content: \"▾\";}#sk-container-id-1 div.sk-estimator input.sk-toggleable__control:checked~label.sk-toggleable__label {background-color: #d4ebff;}#sk-container-id-1 div.sk-label input.sk-toggleable__control:checked~label.sk-toggleable__label {background-color: #d4ebff;}#sk-container-id-1 input.sk-hidden--visually {border: 0;clip: rect(1px 1px 1px 1px);clip: rect(1px, 1px, 1px, 1px);height: 1px;margin: -1px;overflow: hidden;padding: 0;position: absolute;width: 1px;}#sk-container-id-1 div.sk-estimator {font-family: monospace;background-color: #f0f8ff;border: 1px dotted black;border-radius: 0.25em;box-sizing: border-box;margin-bottom: 0.5em;}#sk-container-id-1 div.sk-estimator:hover {background-color: #d4ebff;}#sk-container-id-1 div.sk-parallel-item::after {content: \"\";width: 100%;border-bottom: 1px solid gray;flex-grow: 1;}#sk-container-id-1 div.sk-label:hover label.sk-toggleable__label {background-color: #d4ebff;}#sk-container-id-1 div.sk-serial::before {content: \"\";position: absolute;border-left: 1px solid gray;box-sizing: border-box;top: 0;bottom: 0;left: 50%;z-index: 0;}#sk-container-id-1 div.sk-serial {display: flex;flex-direction: column;align-items: center;background-color: white;padding-right: 0.2em;padding-left: 0.2em;position: relative;}#sk-container-id-1 div.sk-item {position: relative;z-index: 1;}#sk-container-id-1 div.sk-parallel {display: flex;align-items: stretch;justify-content: center;background-color: white;position: relative;}#sk-container-id-1 div.sk-item::before, #sk-container-id-1 div.sk-parallel-item::before {content: \"\";position: absolute;border-left: 1px solid gray;box-sizing: border-box;top: 0;bottom: 0;left: 50%;z-index: -1;}#sk-container-id-1 div.sk-parallel-item {display: flex;flex-direction: column;z-index: 1;position: relative;background-color: white;}#sk-container-id-1 div.sk-parallel-item:first-child::after {align-self: flex-end;width: 50%;}#sk-container-id-1 div.sk-parallel-item:last-child::after {align-self: flex-start;width: 50%;}#sk-container-id-1 div.sk-parallel-item:only-child::after {width: 0;}#sk-container-id-1 div.sk-dashed-wrapped {border: 1px dashed gray;margin: 0 0.4em 0.5em 0.4em;box-sizing: border-box;padding-bottom: 0.4em;background-color: white;}#sk-container-id-1 div.sk-label label {font-family: monospace;font-weight: bold;display: inline-block;line-height: 1.2em;}#sk-container-id-1 div.sk-label-container {text-align: center;}#sk-container-id-1 div.sk-container {/* jupyter's `normalize.less` sets `[hidden] { display: none; }` but bootstrap.min.css set `[hidden] { display: none !important; }` so we also need the `!important` here to be able to override the default hidden behavior on the sphinx rendered scikit-learn.org. See: https://github.com/scikit-learn/scikit-learn/issues/21755 */display: inline-block !important;position: relative;}#sk-container-id-1 div.sk-text-repr-fallback {display: none;}</style><div id=\"sk-container-id-1\" class=\"sk-top-container\"><div class=\"sk-text-repr-fallback\"><pre>GridSearchCV(cv=5, estimator=RandomForestClassifier(random_state=239),\n",
       "             param_grid={&#x27;max_depth&#x27;: array([ 5,  6,  7,  8,  9, 10]),\n",
       "                         &#x27;n_estimators&#x27;: [10, 50, 100, 150, 200]},\n",
       "             scoring=&#x27;accuracy&#x27;)</pre><b>In a Jupyter environment, please rerun this cell to show the HTML representation or trust the notebook. <br />On GitHub, the HTML representation is unable to render, please try loading this page with nbviewer.org.</b></div><div class=\"sk-container\" hidden><div class=\"sk-item sk-dashed-wrapped\"><div class=\"sk-label-container\"><div class=\"sk-label sk-toggleable\"><input class=\"sk-toggleable__control sk-hidden--visually\" id=\"sk-estimator-id-1\" type=\"checkbox\" ><label for=\"sk-estimator-id-1\" class=\"sk-toggleable__label sk-toggleable__label-arrow\">GridSearchCV</label><div class=\"sk-toggleable__content\"><pre>GridSearchCV(cv=5, estimator=RandomForestClassifier(random_state=239),\n",
       "             param_grid={&#x27;max_depth&#x27;: array([ 5,  6,  7,  8,  9, 10]),\n",
       "                         &#x27;n_estimators&#x27;: [10, 50, 100, 150, 200]},\n",
       "             scoring=&#x27;accuracy&#x27;)</pre></div></div></div><div class=\"sk-parallel\"><div class=\"sk-parallel-item\"><div class=\"sk-item\"><div class=\"sk-label-container\"><div class=\"sk-label sk-toggleable\"><input class=\"sk-toggleable__control sk-hidden--visually\" id=\"sk-estimator-id-2\" type=\"checkbox\" ><label for=\"sk-estimator-id-2\" class=\"sk-toggleable__label sk-toggleable__label-arrow\">estimator: RandomForestClassifier</label><div class=\"sk-toggleable__content\"><pre>RandomForestClassifier(random_state=239)</pre></div></div></div><div class=\"sk-serial\"><div class=\"sk-item\"><div class=\"sk-estimator sk-toggleable\"><input class=\"sk-toggleable__control sk-hidden--visually\" id=\"sk-estimator-id-3\" type=\"checkbox\" ><label for=\"sk-estimator-id-3\" class=\"sk-toggleable__label sk-toggleable__label-arrow\">RandomForestClassifier</label><div class=\"sk-toggleable__content\"><pre>RandomForestClassifier(random_state=239)</pre></div></div></div></div></div></div></div></div></div></div>"
      ],
      "text/plain": [
       "GridSearchCV(cv=5, estimator=RandomForestClassifier(random_state=239),\n",
       "             param_grid={'max_depth': array([ 5,  6,  7,  8,  9, 10]),\n",
       "                         'n_estimators': [10, 50, 100, 150, 200]},\n",
       "             scoring='accuracy')"
      ]
     },
     "execution_count": 34,
     "metadata": {},
     "output_type": "execute_result"
    }
   ],
   "source": [
    "%%time\n",
    "\n",
    "gs_clf.fit(features_train, target_train); # обучаем GS на тренир. данных"
   ]
  },
  {
   "cell_type": "code",
   "execution_count": 35,
   "metadata": {},
   "outputs": [
    {
     "data": {
      "text/plain": [
       "Index(['mean_fit_time', 'std_fit_time', 'mean_score_time', 'std_score_time',\n",
       "       'param_max_depth', 'param_n_estimators', 'params', 'split0_test_score',\n",
       "       'split1_test_score', 'split2_test_score', 'split3_test_score',\n",
       "       'split4_test_score', 'mean_test_score', 'std_test_score',\n",
       "       'rank_test_score'],\n",
       "      dtype='object')"
      ]
     },
     "execution_count": 35,
     "metadata": {},
     "output_type": "execute_result"
    }
   ],
   "source": [
    "# Посмотрим на результаты\n",
    "\n",
    "gs_results = pd.DataFrame(gs_clf.cv_results_)\n",
    "gs_results.columns"
   ]
  },
  {
   "cell_type": "code",
   "execution_count": 36,
   "metadata": {},
   "outputs": [
    {
     "data": {
      "text/html": [
       "<div>\n",
       "<style scoped>\n",
       "    .dataframe tbody tr th:only-of-type {\n",
       "        vertical-align: middle;\n",
       "    }\n",
       "\n",
       "    .dataframe tbody tr th {\n",
       "        vertical-align: top;\n",
       "    }\n",
       "\n",
       "    .dataframe thead th {\n",
       "        text-align: right;\n",
       "    }\n",
       "</style>\n",
       "<table border=\"1\" class=\"dataframe\">\n",
       "  <thead>\n",
       "    <tr style=\"text-align: right;\">\n",
       "      <th></th>\n",
       "      <th>param_max_depth</th>\n",
       "      <th>param_n_estimators</th>\n",
       "      <th>mean_test_score</th>\n",
       "    </tr>\n",
       "  </thead>\n",
       "  <tbody>\n",
       "    <tr>\n",
       "      <th>21</th>\n",
       "      <td>9</td>\n",
       "      <td>50</td>\n",
       "      <td>0.817842</td>\n",
       "    </tr>\n",
       "    <tr>\n",
       "      <th>22</th>\n",
       "      <td>9</td>\n",
       "      <td>100</td>\n",
       "      <td>0.817427</td>\n",
       "    </tr>\n",
       "    <tr>\n",
       "      <th>23</th>\n",
       "      <td>9</td>\n",
       "      <td>150</td>\n",
       "      <td>0.817012</td>\n",
       "    </tr>\n",
       "    <tr>\n",
       "      <th>24</th>\n",
       "      <td>9</td>\n",
       "      <td>200</td>\n",
       "      <td>0.815353</td>\n",
       "    </tr>\n",
       "    <tr>\n",
       "      <th>28</th>\n",
       "      <td>10</td>\n",
       "      <td>150</td>\n",
       "      <td>0.815353</td>\n",
       "    </tr>\n",
       "  </tbody>\n",
       "</table>\n",
       "</div>"
      ],
      "text/plain": [
       "   param_max_depth param_n_estimators  mean_test_score\n",
       "21               9                 50         0.817842\n",
       "22               9                100         0.817427\n",
       "23               9                150         0.817012\n",
       "24               9                200         0.815353\n",
       "28              10                150         0.815353"
      ]
     },
     "execution_count": 36,
     "metadata": {},
     "output_type": "execute_result"
    }
   ],
   "source": [
    "# Посмотрим как зависит значение метрики от выбранных параметров\n",
    "\n",
    "param_columns = [column for column in gs_results.columns if column.startswith('param_')]\n",
    "score_columns = ['mean_test_score']\n",
    "\n",
    "gs_results = gs_results[param_columns + score_columns].sort_values(by=score_columns, ascending=False)\n",
    "gs_results.head()"
   ]
  },
  {
   "cell_type": "code",
   "execution_count": 37,
   "metadata": {},
   "outputs": [
    {
     "data": {
      "text/plain": [
       "{'max_depth': 9, 'n_estimators': 50}"
      ]
     },
     "execution_count": 37,
     "metadata": {},
     "output_type": "execute_result"
    }
   ],
   "source": [
    "# Наилучшие параметры модели\n",
    "\n",
    "gs_clf.best_params_"
   ]
  },
  {
   "cell_type": "code",
   "execution_count": 38,
   "metadata": {},
   "outputs": [
    {
     "data": {
      "text/plain": [
       "0.8178"
      ]
     },
     "execution_count": 38,
     "metadata": {},
     "output_type": "execute_result"
    }
   ],
   "source": [
    "# Значение метрики \n",
    "\n",
    "round(gs_clf.best_score_, 4)"
   ]
  },
  {
   "cell_type": "code",
   "execution_count": 39,
   "metadata": {},
   "outputs": [],
   "source": [
    "# Получена модель с наилучшими параметрами, сохраним её в переменную rfc_model\n",
    "\n",
    "rfc_model = gs_clf.best_estimator_"
   ]
  },
  {
   "cell_type": "code",
   "execution_count": 40,
   "metadata": {},
   "outputs": [
    {
     "name": "stdout",
     "output_type": "stream",
     "text": [
      "ACCURACY\n",
      "\n",
      "Metric value on test data:\t0.8274\n",
      "Metric value on training data:\t0.874\n"
     ]
    }
   ],
   "source": [
    "# Получаем предсказания\n",
    "\n",
    "y_train_pred = rfc_model.predict(X_train)\n",
    "y_valid_pred = rfc_model.predict(X_valid) \n",
    "\n",
    "evaluate_preds(y_train, y_train_pred, y_valid, y_valid_pred)"
   ]
  },
  {
   "cell_type": "markdown",
   "metadata": {},
   "source": [
    "#### Вывод:\n",
    "В качестве лучшей модели случайного леса берём модель `rfc_model`, с соответствующими настройками гиперпараметров. Значение метрики качества (`accuracy`) для данной модели составляет `0.8274`."
   ]
  },
  {
   "cell_type": "markdown",
   "metadata": {},
   "source": [
    "### Проверим качество модели на тестовой выборке"
   ]
  },
  {
   "cell_type": "markdown",
   "metadata": {},
   "source": [
    "В процессе исследования лучший результат, соотв. наибольшему значению метрики качества, показала модель случайного леса, с настройками гиперпараметров:\n",
    "\n",
    "- `random_state` = 239,\n",
    "\n",
    "- `max_depth` = 9, \n",
    "\n",
    "- `n_estimators` = 50. \n",
    "\n",
    "Проверим качество данной модели на тестовых данных:"
   ]
  },
  {
   "cell_type": "code",
   "execution_count": 41,
   "metadata": {},
   "outputs": [
    {
     "name": "stdout",
     "output_type": "stream",
     "text": [
      "CPU times: total: 188 ms\n",
      "Wall time: 191 ms\n"
     ]
    },
    {
     "data": {
      "text/html": [
       "<style>#sk-container-id-2 {color: black;background-color: white;}#sk-container-id-2 pre{padding: 0;}#sk-container-id-2 div.sk-toggleable {background-color: white;}#sk-container-id-2 label.sk-toggleable__label {cursor: pointer;display: block;width: 100%;margin-bottom: 0;padding: 0.3em;box-sizing: border-box;text-align: center;}#sk-container-id-2 label.sk-toggleable__label-arrow:before {content: \"▸\";float: left;margin-right: 0.25em;color: #696969;}#sk-container-id-2 label.sk-toggleable__label-arrow:hover:before {color: black;}#sk-container-id-2 div.sk-estimator:hover label.sk-toggleable__label-arrow:before {color: black;}#sk-container-id-2 div.sk-toggleable__content {max-height: 0;max-width: 0;overflow: hidden;text-align: left;background-color: #f0f8ff;}#sk-container-id-2 div.sk-toggleable__content pre {margin: 0.2em;color: black;border-radius: 0.25em;background-color: #f0f8ff;}#sk-container-id-2 input.sk-toggleable__control:checked~div.sk-toggleable__content {max-height: 200px;max-width: 100%;overflow: auto;}#sk-container-id-2 input.sk-toggleable__control:checked~label.sk-toggleable__label-arrow:before {content: \"▾\";}#sk-container-id-2 div.sk-estimator input.sk-toggleable__control:checked~label.sk-toggleable__label {background-color: #d4ebff;}#sk-container-id-2 div.sk-label input.sk-toggleable__control:checked~label.sk-toggleable__label {background-color: #d4ebff;}#sk-container-id-2 input.sk-hidden--visually {border: 0;clip: rect(1px 1px 1px 1px);clip: rect(1px, 1px, 1px, 1px);height: 1px;margin: -1px;overflow: hidden;padding: 0;position: absolute;width: 1px;}#sk-container-id-2 div.sk-estimator {font-family: monospace;background-color: #f0f8ff;border: 1px dotted black;border-radius: 0.25em;box-sizing: border-box;margin-bottom: 0.5em;}#sk-container-id-2 div.sk-estimator:hover {background-color: #d4ebff;}#sk-container-id-2 div.sk-parallel-item::after {content: \"\";width: 100%;border-bottom: 1px solid gray;flex-grow: 1;}#sk-container-id-2 div.sk-label:hover label.sk-toggleable__label {background-color: #d4ebff;}#sk-container-id-2 div.sk-serial::before {content: \"\";position: absolute;border-left: 1px solid gray;box-sizing: border-box;top: 0;bottom: 0;left: 50%;z-index: 0;}#sk-container-id-2 div.sk-serial {display: flex;flex-direction: column;align-items: center;background-color: white;padding-right: 0.2em;padding-left: 0.2em;position: relative;}#sk-container-id-2 div.sk-item {position: relative;z-index: 1;}#sk-container-id-2 div.sk-parallel {display: flex;align-items: stretch;justify-content: center;background-color: white;position: relative;}#sk-container-id-2 div.sk-item::before, #sk-container-id-2 div.sk-parallel-item::before {content: \"\";position: absolute;border-left: 1px solid gray;box-sizing: border-box;top: 0;bottom: 0;left: 50%;z-index: -1;}#sk-container-id-2 div.sk-parallel-item {display: flex;flex-direction: column;z-index: 1;position: relative;background-color: white;}#sk-container-id-2 div.sk-parallel-item:first-child::after {align-self: flex-end;width: 50%;}#sk-container-id-2 div.sk-parallel-item:last-child::after {align-self: flex-start;width: 50%;}#sk-container-id-2 div.sk-parallel-item:only-child::after {width: 0;}#sk-container-id-2 div.sk-dashed-wrapped {border: 1px dashed gray;margin: 0 0.4em 0.5em 0.4em;box-sizing: border-box;padding-bottom: 0.4em;background-color: white;}#sk-container-id-2 div.sk-label label {font-family: monospace;font-weight: bold;display: inline-block;line-height: 1.2em;}#sk-container-id-2 div.sk-label-container {text-align: center;}#sk-container-id-2 div.sk-container {/* jupyter's `normalize.less` sets `[hidden] { display: none; }` but bootstrap.min.css set `[hidden] { display: none !important; }` so we also need the `!important` here to be able to override the default hidden behavior on the sphinx rendered scikit-learn.org. See: https://github.com/scikit-learn/scikit-learn/issues/21755 */display: inline-block !important;position: relative;}#sk-container-id-2 div.sk-text-repr-fallback {display: none;}</style><div id=\"sk-container-id-2\" class=\"sk-top-container\"><div class=\"sk-text-repr-fallback\"><pre>RandomForestClassifier(max_depth=9, n_estimators=50, random_state=239)</pre><b>In a Jupyter environment, please rerun this cell to show the HTML representation or trust the notebook. <br />On GitHub, the HTML representation is unable to render, please try loading this page with nbviewer.org.</b></div><div class=\"sk-container\" hidden><div class=\"sk-item\"><div class=\"sk-estimator sk-toggleable\"><input class=\"sk-toggleable__control sk-hidden--visually\" id=\"sk-estimator-id-4\" type=\"checkbox\" checked><label for=\"sk-estimator-id-4\" class=\"sk-toggleable__label sk-toggleable__label-arrow\">RandomForestClassifier</label><div class=\"sk-toggleable__content\"><pre>RandomForestClassifier(max_depth=9, n_estimators=50, random_state=239)</pre></div></div></div></div></div>"
      ],
      "text/plain": [
       "RandomForestClassifier(max_depth=9, n_estimators=50, random_state=239)"
      ]
     },
     "execution_count": 41,
     "metadata": {},
     "output_type": "execute_result"
    }
   ],
   "source": [
    "%%time\n",
    "\n",
    "final_model = RandomForestClassifier(random_state=239, max_depth=9, n_estimators=50) # построение модели\n",
    "\n",
    "final_model.fit(X_train, y_train); # обучение модели"
   ]
  },
  {
   "cell_type": "code",
   "execution_count": 42,
   "metadata": {},
   "outputs": [
    {
     "name": "stdout",
     "output_type": "stream",
     "text": [
      "ACCURACY\n",
      "\n",
      "Metric value on test data:\t0.8383\n",
      "Metric value on training data:\t0.8766\n"
     ]
    }
   ],
   "source": [
    "# Получаем предсказания\n",
    "\n",
    "y_train_pred = final_model.predict(X_train)\n",
    "y_test_pred = final_model.predict(X_test) \n",
    "\n",
    "evaluate_preds(y_train, y_train_pred, y_test, y_test_pred)"
   ]
  },
  {
   "cell_type": "markdown",
   "metadata": {},
   "source": [
    "### Проверим модели на адекватность"
   ]
  },
  {
   "cell_type": "markdown",
   "metadata": {},
   "source": [
    "Один из способов проверки модели на адекватность - сравнение с базовой моделью, которая предсказывает одно и то же значение. В качестве базовой модели рассмотрим `DummyClassifier`, со стратегией `most_frequent` (предсказание наиболее частым классом), сравним точности на базовой и нашей лучшей модели: "
   ]
  },
  {
   "cell_type": "code",
   "execution_count": 43,
   "metadata": {},
   "outputs": [],
   "source": [
    "dc_model = DummyClassifier(random_state=239, strategy='most_frequent') # построение модели\n",
    "\n",
    "dc_model.fit(X_train, y_train); # обучение модели"
   ]
  },
  {
   "cell_type": "code",
   "execution_count": 44,
   "metadata": {
    "scrolled": true
   },
   "outputs": [
    {
     "name": "stdout",
     "output_type": "stream",
     "text": [
      "ACCURACY\n",
      "\n",
      "Metric value on test data:\t0.6936\n",
      "Metric value on training data:\t0.6935\n"
     ]
    }
   ],
   "source": [
    "# Получаем предсказания\n",
    "\n",
    "y_train_pred = dc_model.predict(X_train)\n",
    "y_test_pred = dc_model.predict(X_test) \n",
    "\n",
    "evaluate_preds(y_train, y_train_pred, y_test, y_test_pred)"
   ]
  },
  {
   "cell_type": "markdown",
   "metadata": {},
   "source": [
    "Для базовой модели на тестовых данных получено значение метрики, равное `0.6936`, против `0.8383` нашей лучшей модели. Можно сделать вывод об адекватности построенной модели (точность превосходит точность базовой модели). "
   ]
  },
  {
   "cell_type": "markdown",
   "metadata": {},
   "source": [
    "#### Вывод:\n",
    "В процессе исследования были апробированы такие модели машинного обучения, как: логистическая регрессия, решающее дерево и случайный лес. После настройки некоторых гиперпараметров, наилучший результат в плане точности показала модель случайного леса (`accuracy = 0.8178` на валидационной выборке). При проверке работы данной модели на тестовых данных получено значение `accuracy`, равное `0.8383`, что превосходит установленный порог в `0.75`. \n",
    "\n",
    "Использовать полученный результат в бизнесе возможно, например, таким образом: допустим какой-то тариф более выгоден компании, тогда мы можем предложить перейти на него клиентам, но не всем, а тем, кому данный тариф подходит (на основе прогноза модели). Мы сэкономим время и деньги, ведь просто предлагать переходить всем это лишние траты (не говоря о клиентах, которые уходят, если слишком назойливо им что-то предлагать, что для них явно не подходит)."
   ]
  }
 ],
 "metadata": {
  "ExecuteTimeLog": [
   {
    "duration": 3683,
    "start_time": "2023-04-03T09:22:40.738Z"
   },
   {
    "duration": 218,
    "start_time": "2023-04-03T09:22:44.423Z"
   },
   {
    "duration": 22,
    "start_time": "2023-04-03T09:22:44.644Z"
   },
   {
    "duration": 22,
    "start_time": "2023-04-03T09:22:44.670Z"
   },
   {
    "duration": 8,
    "start_time": "2023-04-03T09:22:44.696Z"
   },
   {
    "duration": 10,
    "start_time": "2023-04-03T09:22:44.708Z"
   },
   {
    "duration": 24,
    "start_time": "2023-04-03T09:22:44.720Z"
   },
   {
    "duration": 13,
    "start_time": "2023-04-03T09:22:44.747Z"
   },
   {
    "duration": 20,
    "start_time": "2023-04-03T09:22:44.765Z"
   },
   {
    "duration": 8,
    "start_time": "2023-04-03T09:22:44.793Z"
   },
   {
    "duration": 3,
    "start_time": "2023-04-03T09:22:44.805Z"
   },
   {
    "duration": 26,
    "start_time": "2023-04-03T09:22:44.814Z"
   },
   {
    "duration": 13,
    "start_time": "2023-04-03T09:22:44.843Z"
   },
   {
    "duration": 15,
    "start_time": "2023-04-03T09:22:44.858Z"
   },
   {
    "duration": 28,
    "start_time": "2023-04-03T09:22:44.879Z"
   },
   {
    "duration": 66,
    "start_time": "2023-04-03T09:22:44.910Z"
   },
   {
    "duration": 10,
    "start_time": "2023-04-03T09:22:44.978Z"
   },
   {
    "duration": 3,
    "start_time": "2023-04-03T09:22:44.990Z"
   },
   {
    "duration": 35,
    "start_time": "2023-04-03T09:22:44.994Z"
   },
   {
    "duration": 11,
    "start_time": "2023-04-03T09:22:45.031Z"
   },
   {
    "duration": 283,
    "start_time": "2023-04-03T09:22:45.044Z"
   },
   {
    "duration": 371,
    "start_time": "2023-04-03T09:22:45.330Z"
   },
   {
    "duration": 11,
    "start_time": "2023-04-03T09:22:45.703Z"
   },
   {
    "duration": 12,
    "start_time": "2023-04-03T09:22:45.716Z"
   },
   {
    "duration": 5,
    "start_time": "2023-04-03T09:22:45.730Z"
   },
   {
    "duration": 480,
    "start_time": "2023-04-03T09:22:45.736Z"
   },
   {
    "duration": 85,
    "start_time": "2023-04-03T09:22:46.217Z"
   },
   {
    "duration": 4,
    "start_time": "2023-04-03T09:22:46.306Z"
   },
   {
    "duration": 48281,
    "start_time": "2023-04-03T09:22:46.313Z"
   },
   {
    "duration": 15,
    "start_time": "2023-04-03T09:23:34.596Z"
   },
   {
    "duration": 24,
    "start_time": "2023-04-03T09:23:34.613Z"
   },
   {
    "duration": 5,
    "start_time": "2023-04-03T09:23:34.640Z"
   },
   {
    "duration": 781,
    "start_time": "2023-04-03T09:23:34.648Z"
   },
   {
    "duration": 115,
    "start_time": "2023-04-03T09:23:35.430Z"
   },
   {
    "duration": 719,
    "start_time": "2023-04-03T09:23:35.547Z"
   },
   {
    "duration": 116,
    "start_time": "2023-04-03T09:23:36.268Z"
   },
   {
    "duration": 5,
    "start_time": "2023-04-03T09:23:36.386Z"
   },
   {
    "duration": 15,
    "start_time": "2023-04-03T09:23:36.395Z"
   },
   {
    "duration": 262,
    "start_time": "2023-04-03T09:27:14.621Z"
   }
  ],
  "kernelspec": {
   "display_name": "Python 3 (ipykernel)",
   "language": "python",
   "name": "python3"
  },
  "language_info": {
   "codemirror_mode": {
    "name": "ipython",
    "version": 3
   },
   "file_extension": ".py",
   "mimetype": "text/x-python",
   "name": "python",
   "nbconvert_exporter": "python",
   "pygments_lexer": "ipython3",
   "version": "3.9.10"
  },
  "toc": {
   "base_numbering": 1,
   "nav_menu": {},
   "number_sections": true,
   "sideBar": true,
   "skip_h1_title": true,
   "title_cell": "Table of Contents",
   "title_sidebar": "Contents",
   "toc_cell": false,
   "toc_position": {},
   "toc_section_display": true,
   "toc_window_display": false
  }
 },
 "nbformat": 4,
 "nbformat_minor": 2
}
